{
 "cells": [
  {
   "cell_type": "markdown",
   "metadata": {},
   "source": [
    "# Aula 21/02\n",
    "\n",
    "- Objetivo\n",
    "    - Princípios de C/C++ e suas diferenças para Python\n",
    "- Conceitos básicos:\n",
    "    - Compilação x Execução\n",
    "- Zero Overhead: Filosofia de C/C++\n",
    "    - \"If you don't use, you don't pay for\"\n",
    "- Conceitos básicos:\n",
    "    - Números inteiros: Sign-and-Magnitude (SM)\n",
    "    - Complementos\n",
    "        - One's Complement\n",
    "        - Two's Complement\n",
    "    - Padrões"
   ]
  },
  {
   "cell_type": "markdown",
   "metadata": {},
   "source": [
    "# Aula 26/02\n",
    "\n",
    "- Variáveis e tipos\n",
    "    - Números de ponto flutuante: Float e Double\n",
    "    - Armazenamento: Endianness\n",
    "        - Big engine: Inverte a ordem dos nibbles para armazenar o número\n",
    "        - Little engine: Armazena na ordem normal"
   ]
  }
 ],
 "metadata": {
  "language_info": {
   "name": "python"
  }
 },
 "nbformat": 4,
 "nbformat_minor": 2
}
